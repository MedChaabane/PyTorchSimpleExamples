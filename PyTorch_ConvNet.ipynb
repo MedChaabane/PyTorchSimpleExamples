{
 "cells": [
  {
   "cell_type": "markdown",
   "metadata": {},
   "source": [
    "\n",
    "Convolutional Neural Networks\n",
    "===============\n",
    "\n",
    "\n"
   ]
  },
  {
   "cell_type": "code",
   "execution_count": 1,
   "metadata": {
    "collapsed": true
   },
   "outputs": [],
   "source": [
    "import torch \n",
    "import torch.nn as nn\n",
    "import torchvision\n",
    "import torchvision.transforms as transforms\n",
    "%matplotlib inline\n",
    "# Device configuration\n",
    "device = torch.device('cuda:0' if torch.cuda.is_available() else 'cpu')\n",
    "\n",
    "# Hyper parameters\n",
    "num_epochs = 2\n",
    "num_classes = 10\n",
    "batch_size = 100\n",
    "learning_rate = 0.001\n",
    "\n",
    "# input images of shape 1 x 28 x 28\n",
    "class ConvNet(nn.Module):\n",
    "    def __init__(self, num_classes=10):\n",
    "        super(ConvNet, self).__init__()\n",
    "        # self.weights=torch.randn(32,16,5,5)    \n",
    "        # self.weights.requires_grad=True\n",
    "        \n",
    "        self.conv1=nn.Conv2d(1, 16, kernel_size=5, stride=(1,1), padding=2)\n",
    "        self.layer1 = nn.Sequential(\n",
    "            self.conv1,\n",
    "            nn.BatchNorm2d(16),\n",
    "            nn.ReLU(),\n",
    "            nn.MaxPool2d(kernel_size=2, stride=2))\n",
    "        \n",
    "        self.layer2 = nn.Sequential(\n",
    "            nn.Conv2d(16, 32, kernel_size=5, stride=1, padding=2),\n",
    "            nn.BatchNorm2d(32),\n",
    "            nn.ReLU(),\n",
    "            nn.MaxPool2d(kernel_size=2, stride=2))\n",
    "        \n",
    "        self.fc = nn.Linear(7*7*32, num_classes)\n",
    "        \n",
    "    def forward(self, x):\n",
    "        out = self.layer1(x)\n",
    "        # out=torch.nn.functional.conv2d(out,self.weights, bias=None, stride=1, padding=2) ##\n",
    "        out = self.layer2(out)\n",
    "        out = out.reshape(out.size(0), -1)\n",
    "        out = self.fc(out)\n",
    "        return out\n",
    "model = ConvNet(num_classes).to(device)\n"
   ]
  },
  {
   "cell_type": "markdown",
   "metadata": {},
   "source": [
    "The learnable parameters of a model are returned by model.parameters()"
   ]
  },
  {
   "cell_type": "code",
   "execution_count": 2,
   "metadata": {},
   "outputs": [
    {
     "name": "stdout",
     "output_type": "stream",
     "text": [
      "number of learnable parameters= 10\n",
      "Parameter containing:\n",
      "tensor([[[[-0.1703, -0.0844, -0.1433,  0.0014,  0.1380],\n",
      "          [ 0.0358, -0.1088,  0.0381,  0.0743,  0.1498],\n",
      "          [ 0.0185,  0.0302,  0.0579,  0.1465, -0.1374],\n",
      "          [-0.1229, -0.0961, -0.0668,  0.0532,  0.0851],\n",
      "          [ 0.0240,  0.0054,  0.1965,  0.0847,  0.1884]]],\n",
      "\n",
      "\n",
      "        [[[ 0.1330,  0.1046,  0.1868, -0.1849,  0.1108],\n",
      "          [ 0.1597, -0.0141, -0.1538,  0.1554, -0.1292],\n",
      "          [ 0.1856,  0.0433,  0.1666,  0.1571, -0.1783],\n",
      "          [ 0.0915, -0.1579, -0.1862, -0.1617, -0.0913],\n",
      "          [ 0.1584, -0.1019, -0.0858, -0.1443, -0.1747]]],\n",
      "\n",
      "\n",
      "        [[[ 0.0033, -0.0575, -0.1132, -0.1870,  0.0853],\n",
      "          [ 0.0093, -0.0515, -0.1398, -0.0230, -0.1095],\n",
      "          [ 0.1656, -0.1975,  0.0288,  0.1076,  0.1007],\n",
      "          [ 0.0604, -0.1646, -0.0911,  0.0429,  0.1083],\n",
      "          [-0.1028,  0.1886,  0.1499, -0.0661,  0.0636]]],\n",
      "\n",
      "\n",
      "        [[[ 0.1489, -0.0294,  0.1929, -0.1604, -0.1208],\n",
      "          [-0.1812,  0.1089,  0.1981,  0.1026,  0.1187],\n",
      "          [ 0.1196, -0.1850,  0.0243, -0.1932,  0.1125],\n",
      "          [ 0.1773, -0.1387, -0.0961,  0.1759,  0.0691],\n",
      "          [-0.1485, -0.1275, -0.1597, -0.1424, -0.0187]]],\n",
      "\n",
      "\n",
      "        [[[ 0.1593,  0.1170, -0.0093,  0.0218, -0.1881],\n",
      "          [ 0.0857, -0.0659, -0.1990,  0.1553,  0.0048],\n",
      "          [-0.0158, -0.1882,  0.1671, -0.0860, -0.0824],\n",
      "          [ 0.1690, -0.0265, -0.1822,  0.1959, -0.0892],\n",
      "          [-0.0167,  0.0107,  0.0895, -0.1193, -0.0154]]],\n",
      "\n",
      "\n",
      "        [[[ 0.0528,  0.1141,  0.0841, -0.1941,  0.1497],\n",
      "          [-0.0701,  0.0233, -0.0584,  0.0650,  0.1024],\n",
      "          [-0.0270,  0.0222, -0.0154,  0.1151,  0.0004],\n",
      "          [ 0.0446,  0.0373, -0.0810,  0.1217, -0.0952],\n",
      "          [-0.1755, -0.1616, -0.0965, -0.1138, -0.1920]]],\n",
      "\n",
      "\n",
      "        [[[-0.1459, -0.1019, -0.1825,  0.1703,  0.0889],\n",
      "          [ 0.0278,  0.1629, -0.0132,  0.1461,  0.1399],\n",
      "          [-0.1940, -0.1017, -0.0306, -0.0316,  0.1303],\n",
      "          [ 0.1945, -0.1646, -0.1467, -0.0687, -0.0719],\n",
      "          [ 0.1534, -0.0316, -0.0218,  0.0765, -0.0822]]],\n",
      "\n",
      "\n",
      "        [[[-0.0040,  0.0351, -0.0541,  0.1011,  0.1070],\n",
      "          [ 0.0792,  0.1749,  0.1844,  0.1607, -0.0166],\n",
      "          [-0.1934, -0.0739,  0.0473,  0.0759, -0.0755],\n",
      "          [-0.0376,  0.1909,  0.0285, -0.1081, -0.0652],\n",
      "          [-0.0618, -0.1817,  0.0920, -0.1567,  0.1508]]],\n",
      "\n",
      "\n",
      "        [[[-0.0835,  0.1986,  0.1040,  0.1661, -0.1288],\n",
      "          [-0.0621, -0.1665, -0.1514, -0.0515,  0.0798],\n",
      "          [ 0.0417,  0.0172,  0.0311, -0.0572, -0.1573],\n",
      "          [-0.0486,  0.0572,  0.1840,  0.0065,  0.1756],\n",
      "          [ 0.1361,  0.0526, -0.1063,  0.1359,  0.0494]]],\n",
      "\n",
      "\n",
      "        [[[ 0.1848, -0.1246,  0.1510, -0.0173, -0.1391],\n",
      "          [ 0.0346, -0.0984,  0.0338,  0.1341,  0.0239],\n",
      "          [-0.0804, -0.1613, -0.1524,  0.1276,  0.1235],\n",
      "          [-0.1692, -0.0145,  0.1295, -0.1131, -0.0174],\n",
      "          [ 0.1775,  0.0610, -0.1929, -0.1861,  0.0132]]],\n",
      "\n",
      "\n",
      "        [[[ 0.0386,  0.1526,  0.0064,  0.1374, -0.0036],\n",
      "          [-0.1834,  0.0550,  0.1534,  0.0528, -0.0844],\n",
      "          [-0.1102,  0.1242, -0.0960,  0.0358, -0.0314],\n",
      "          [ 0.0851, -0.1098,  0.1462, -0.0593,  0.0364],\n",
      "          [-0.1744,  0.1197, -0.1865,  0.0646,  0.0960]]],\n",
      "\n",
      "\n",
      "        [[[-0.1985, -0.0960,  0.0592, -0.0610, -0.0841],\n",
      "          [-0.0096,  0.0039, -0.1591,  0.0801,  0.0189],\n",
      "          [ 0.0849, -0.0692, -0.1846, -0.1755, -0.1099],\n",
      "          [ 0.0232, -0.0420, -0.0504, -0.1858,  0.0445],\n",
      "          [ 0.0907,  0.1559,  0.0583, -0.0575, -0.0091]]],\n",
      "\n",
      "\n",
      "        [[[-0.1267,  0.1598, -0.1731, -0.0158,  0.0565],\n",
      "          [ 0.1579, -0.0273, -0.1684,  0.0450,  0.1723],\n",
      "          [ 0.1790, -0.0116, -0.0766, -0.0610,  0.1385],\n",
      "          [-0.1744, -0.1641, -0.1802,  0.1559, -0.1810],\n",
      "          [-0.0571, -0.0659,  0.1251,  0.1571,  0.0297]]],\n",
      "\n",
      "\n",
      "        [[[ 0.0834,  0.0484,  0.1641,  0.0276, -0.1393],\n",
      "          [ 0.1172, -0.0192,  0.0580, -0.1468, -0.0849],\n",
      "          [-0.1432,  0.1903,  0.0267,  0.1683,  0.0350],\n",
      "          [-0.0964, -0.1481,  0.1224, -0.0377, -0.1573],\n",
      "          [ 0.0845,  0.1477, -0.1518,  0.1918,  0.1411]]],\n",
      "\n",
      "\n",
      "        [[[-0.1011,  0.0392, -0.1486, -0.0202, -0.0094],\n",
      "          [-0.1625, -0.0795,  0.0938, -0.1337, -0.1004],\n",
      "          [ 0.1216,  0.0334,  0.0068,  0.0664, -0.0002],\n",
      "          [-0.0040, -0.1393, -0.0143,  0.0259,  0.1289],\n",
      "          [ 0.1675,  0.1615,  0.0914,  0.1192,  0.1508]]],\n",
      "\n",
      "\n",
      "        [[[ 0.0352, -0.0178, -0.0587, -0.0603, -0.0425],\n",
      "          [-0.0155,  0.0295, -0.0675,  0.0529, -0.1447],\n",
      "          [-0.0457,  0.1216, -0.0403, -0.0413,  0.1009],\n",
      "          [ 0.0856, -0.0674, -0.1142, -0.1521,  0.0328],\n",
      "          [ 0.1782, -0.0840, -0.1983,  0.0471, -0.0989]]]],\n",
      "       requires_grad=True)\n"
     ]
    }
   ],
   "source": [
    "params = list(model.parameters())\n",
    "print('number of learnable parameters=', len(params))\n",
    "print(params[0]) # conv1's .weight"
   ]
  },
  {
   "cell_type": "markdown",
   "metadata": {},
   "source": [
    "Let try a random 28 x 28 input Note: Expected input size to this model is 28 x 28"
   ]
  },
  {
   "cell_type": "code",
   "execution_count": 3,
   "metadata": {},
   "outputs": [
    {
     "name": "stdout",
     "output_type": "stream",
     "text": [
      "tensor([[-0.5849, -0.0414, -0.0816, -0.4699, -0.0023, -0.1852,  0.1841, -0.2544,\n",
      "          0.0309, -0.0315]], grad_fn=<ThAddmmBackward>)\n"
     ]
    }
   ],
   "source": [
    "input = torch.randn(1, 1, 28, 28)\n",
    "out = model(input)\n",
    "print(out)"
   ]
  },
  {
   "cell_type": "code",
   "execution_count": 4,
   "metadata": {},
   "outputs": [
    {
     "name": "stdout",
     "output_type": "stream",
     "text": [
      "loss=   tensor(1.0605, grad_fn=<MseLossBackward>)\n",
      "conv1.bias.grad before backward\n",
      "None\n",
      "conv1.bias.grad after backward\n",
      "tensor([ 4.7221e-09,  4.4936e-09,  4.0705e-08,  6.3246e-09,  2.3683e-09,\n",
      "         1.1321e-08, -4.4747e-09,  5.3355e-08,  1.6954e-08,  6.0536e-09,\n",
      "         1.1752e-08, -1.7186e-08, -1.8908e-09, -1.6113e-08,  1.9921e-08,\n",
      "        -4.2783e-08])\n"
     ]
    }
   ],
   "source": [
    "output = model(input)\n",
    "target = torch.randn(10)  # a dummy target, for example\n",
    "# print(target.shape)\n",
    "target = target.view(1, -1)  # make it the same shape as output\n",
    "# print(target.shape)\n",
    "criterion = nn.MSELoss()\n",
    "\n",
    "loss = criterion(output, target)\n",
    "print('loss=  ',loss)\n",
    "print('conv1.bias.grad before backward')\n",
    "print(model.conv1.bias.grad)\n",
    "\n",
    "loss.backward()\n",
    "\n",
    "print('conv1.bias.grad after backward')\n",
    "print(model.conv1.bias.grad)"
   ]
  },
  {
   "cell_type": "code",
   "execution_count": 7,
   "metadata": {
    "scrolled": true
   },
   "outputs": [
    {
     "name": "stdout",
     "output_type": "stream",
     "text": [
      "train_dataset  \n",
      " Dataset MNIST\n",
      "    Number of datapoints: 60000\n",
      "    Split: train\n",
      "    Root Location: ../../data/\n",
      "    Transforms (if any): ToTensor()\n",
      "    Target Transforms (if any): None\n",
      "test_dataset  \n",
      " Dataset MNIST\n",
      "    Number of datapoints: 10000\n",
      "    Split: test\n",
      "    Root Location: ../../data/\n",
      "    Transforms (if any): ToTensor()\n",
      "    Target Transforms (if any): None\n"
     ]
    }
   ],
   "source": [
    "# MNIST dataset\n",
    "train_dataset = torchvision.datasets.MNIST(root='../../data/',\n",
    "                                           train=True, \n",
    "                                           transform=transforms.ToTensor())\n",
    "\n",
    "test_dataset = torchvision.datasets.MNIST(root='../../data/',\n",
    "                                          train=False, \n",
    "                                          transform=transforms.ToTensor())\n",
    "print('train_dataset  \\n',train_dataset)\n",
    "print('test_dataset  \\n',test_dataset)\n",
    "# Data loader\n",
    "train_loader = torch.utils.data.DataLoader(dataset=train_dataset,\n",
    "                                           batch_size=batch_size, \n",
    "                                           shuffle=True)\n",
    "\n",
    "test_loader = torch.utils.data.DataLoader(dataset=test_dataset,\n",
    "                                          batch_size=batch_size, \n",
    "                                          shuffle=False)\n"
   ]
  },
  {
   "cell_type": "code",
   "execution_count": 8,
   "metadata": {},
   "outputs": [
    {
     "name": "stdout",
     "output_type": "stream",
     "text": [
      "Epoch [1/2], Step [100/600], Loss: 0.1371\n",
      "Epoch [1/2], Step [200/600], Loss: 0.1241\n",
      "Epoch [1/2], Step [300/600], Loss: 0.0972\n",
      "Epoch [1/2], Step [400/600], Loss: 0.0606\n",
      "Epoch [1/2], Step [500/600], Loss: 0.0521\n",
      "Epoch [1/2], Step [600/600], Loss: 0.0714\n",
      "Test Accuracy of the model on the 10000 test images: 98.12 %\n"
     ]
    }
   ],
   "source": [
    "\n",
    "model = ConvNet(num_classes).to(device)\n",
    "\n",
    "# Loss and optimizer\n",
    "criterion = nn.CrossEntropyLoss()\n",
    "optimizer = torch.optim.Adam(model.parameters(), lr=learning_rate)\n",
    "\n",
    "# Train the model\n",
    "total_step = len(train_loader)\n",
    "for epoch in range(1):\n",
    "    for i, (images, labels) in enumerate(train_loader):\n",
    "        images = images.to(device)\n",
    "        labels = labels.to(device)\n",
    "        \n",
    "        # Forward pass\n",
    "        outputs = model(images)\n",
    "        loss = criterion(outputs, labels)\n",
    "        \n",
    "        # Backward and optimize\n",
    "        optimizer.zero_grad()\n",
    "        loss.backward()\n",
    "        optimizer.step()\n",
    "        \n",
    "        if (i+1) % 100 == 0:\n",
    "            print ('Epoch [{}/{}], Step [{}/{}], Loss: {:.4f}' \n",
    "                   .format(epoch+1, num_epochs, i+1, total_step, loss.item()))\n",
    "\n",
    "# Test the model\n",
    "model.eval()  # eval mode \n",
    "with torch.no_grad():\n",
    "    correct = 0\n",
    "    total = 0\n",
    "    for images, labels in test_loader:\n",
    "        images = images.to(device)\n",
    "        labels = labels.to(device)\n",
    "        outputs = model(images)\n",
    "        _, predicted = torch.max(outputs.data, 1)\n",
    "        total += labels.size(0)\n",
    "        correct += (predicted == labels).sum().item()\n",
    "\n",
    "    print('Test Accuracy of the model on the 10000 test images: {} %'.format(100 * correct / total))\n",
    "\n",
    "# Save the model checkpoint\n",
    "torch.save(model.state_dict(), 'model.ckpt')"
   ]
  },
  {
   "cell_type": "code",
   "execution_count": null,
   "metadata": {
    "collapsed": true
   },
   "outputs": [],
   "source": []
  }
 ],
 "metadata": {
  "kernelspec": {
   "display_name": "Python 3",
   "language": "python",
   "name": "python3"
  },
  "language_info": {
   "codemirror_mode": {
    "name": "ipython",
    "version": 3
   },
   "file_extension": ".py",
   "mimetype": "text/x-python",
   "name": "python",
   "nbconvert_exporter": "python",
   "pygments_lexer": "ipython3",
   "version": "3.6.6"
  }
 },
 "nbformat": 4,
 "nbformat_minor": 1
}
